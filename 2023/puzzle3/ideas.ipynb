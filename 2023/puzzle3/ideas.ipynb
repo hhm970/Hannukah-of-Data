{
 "cells": [
  {
   "cell_type": "code",
   "execution_count": 1,
   "metadata": {},
   "outputs": [],
   "source": [
    "import pandas as pd"
   ]
  },
  {
   "cell_type": "code",
   "execution_count": 2,
   "metadata": {},
   "outputs": [],
   "source": [
    "customer_data = pd.read_csv(\"../noahs-customers.csv\")\n",
    "\n",
    "orders_data = pd.read_csv(\"../noahs-orders.csv\")\n",
    "\n",
    "contractor_number = \"332-274-4185\""
   ]
  },
  {
   "cell_type": "code",
   "execution_count": 3,
   "metadata": {},
   "outputs": [
    {
     "data": {
      "text/html": [
       "<div>\n",
       "<style scoped>\n",
       "    .dataframe tbody tr th:only-of-type {\n",
       "        vertical-align: middle;\n",
       "    }\n",
       "\n",
       "    .dataframe tbody tr th {\n",
       "        vertical-align: top;\n",
       "    }\n",
       "\n",
       "    .dataframe thead th {\n",
       "        text-align: right;\n",
       "    }\n",
       "</style>\n",
       "<table border=\"1\" class=\"dataframe\">\n",
       "  <thead>\n",
       "    <tr style=\"text-align: right;\">\n",
       "      <th></th>\n",
       "      <th>customerid</th>\n",
       "      <th>name</th>\n",
       "      <th>address</th>\n",
       "      <th>citystatezip</th>\n",
       "      <th>birthdate</th>\n",
       "      <th>phone</th>\n",
       "      <th>timezone</th>\n",
       "      <th>lat</th>\n",
       "      <th>long</th>\n",
       "    </tr>\n",
       "  </thead>\n",
       "  <tbody>\n",
       "    <tr>\n",
       "      <th>474</th>\n",
       "      <td>1475</td>\n",
       "      <td>Joshua Peterson</td>\n",
       "      <td>100-75 148th St</td>\n",
       "      <td>Jamaica, NY 11435</td>\n",
       "      <td>1947-02-05</td>\n",
       "      <td>332-274-4185</td>\n",
       "      <td>America/New_York</td>\n",
       "      <td>40.70895</td>\n",
       "      <td>-73.80856</td>\n",
       "    </tr>\n",
       "  </tbody>\n",
       "</table>\n",
       "</div>"
      ],
      "text/plain": [
       "     customerid             name          address       citystatezip  \\\n",
       "474        1475  Joshua Peterson  100-75 148th St  Jamaica, NY 11435   \n",
       "\n",
       "      birthdate         phone          timezone       lat      long  \n",
       "474  1947-02-05  332-274-4185  America/New_York  40.70895 -73.80856  "
      ]
     },
     "execution_count": 3,
     "metadata": {},
     "output_type": "execute_result"
    }
   ],
   "source": [
    "customer_data[customer_data[\"phone\"] == contractor_number]"
   ]
  },
  {
   "cell_type": "code",
   "execution_count": 4,
   "metadata": {},
   "outputs": [
    {
     "data": {
      "text/plain": [
       "customerid        int64\n",
       "name             object\n",
       "address          object\n",
       "citystatezip     object\n",
       "birthdate        object\n",
       "phone            object\n",
       "timezone         object\n",
       "lat             float64\n",
       "long            float64\n",
       "dtype: object"
      ]
     },
     "execution_count": 4,
     "metadata": {},
     "output_type": "execute_result"
    }
   ],
   "source": [
    "customer_data.dtypes"
   ]
  },
  {
   "cell_type": "code",
   "execution_count": 5,
   "metadata": {},
   "outputs": [],
   "source": [
    "customer_data = customer_data[[\"customerid\", \"name\", \"birthdate\", \"phone\", \"citystatezip\"]]"
   ]
  },
  {
   "cell_type": "code",
   "execution_count": 6,
   "metadata": {},
   "outputs": [],
   "source": [
    "customer_birthdate_split = customer_data[\"birthdate\"].str.split(\"-\")\n",
    "\n",
    "customer_data[\"birth_year\"] = customer_birthdate_split.apply(lambda a: a[0])\n",
    "\n",
    "customer_data[\"birth_day&month\"] = customer_birthdate_split.apply(lambda a: a[1:])"
   ]
  },
  {
   "cell_type": "code",
   "execution_count": 7,
   "metadata": {},
   "outputs": [],
   "source": [
    "customer_data[\"birth_year\"] = customer_data[\"birth_year\"].astype('int64')"
   ]
  },
  {
   "cell_type": "code",
   "execution_count": 8,
   "metadata": {},
   "outputs": [
    {
     "data": {
      "text/html": [
       "<div>\n",
       "<style scoped>\n",
       "    .dataframe tbody tr th:only-of-type {\n",
       "        vertical-align: middle;\n",
       "    }\n",
       "\n",
       "    .dataframe tbody tr th {\n",
       "        vertical-align: top;\n",
       "    }\n",
       "\n",
       "    .dataframe thead th {\n",
       "        text-align: right;\n",
       "    }\n",
       "</style>\n",
       "<table border=\"1\" class=\"dataframe\">\n",
       "  <thead>\n",
       "    <tr style=\"text-align: right;\">\n",
       "      <th></th>\n",
       "      <th>customerid</th>\n",
       "      <th>name</th>\n",
       "      <th>phone</th>\n",
       "      <th>citystatezip</th>\n",
       "      <th>birth_year</th>\n",
       "      <th>birth_day&amp;month</th>\n",
       "    </tr>\n",
       "  </thead>\n",
       "  <tbody>\n",
       "    <tr>\n",
       "      <th>0</th>\n",
       "      <td>1001</td>\n",
       "      <td>Jacqueline Alvarez</td>\n",
       "      <td>315-377-5031</td>\n",
       "      <td>Manhattan, NY 10013</td>\n",
       "      <td>1958</td>\n",
       "      <td>[01, 23]</td>\n",
       "    </tr>\n",
       "    <tr>\n",
       "      <th>1</th>\n",
       "      <td>1002</td>\n",
       "      <td>Julie Howell</td>\n",
       "      <td>680-537-8725</td>\n",
       "      <td>Brooklyn, NY 11221</td>\n",
       "      <td>1956</td>\n",
       "      <td>[12, 03]</td>\n",
       "    </tr>\n",
       "    <tr>\n",
       "      <th>2</th>\n",
       "      <td>1003</td>\n",
       "      <td>Christopher Ali</td>\n",
       "      <td>315-846-6054</td>\n",
       "      <td>Jamaica, NY 11434</td>\n",
       "      <td>2001</td>\n",
       "      <td>[09, 20]</td>\n",
       "    </tr>\n",
       "    <tr>\n",
       "      <th>3</th>\n",
       "      <td>1004</td>\n",
       "      <td>Christopher Rodriguez</td>\n",
       "      <td>516-275-2292</td>\n",
       "      <td>Bronx, NY 10453</td>\n",
       "      <td>1959</td>\n",
       "      <td>[07, 10]</td>\n",
       "    </tr>\n",
       "    <tr>\n",
       "      <th>4</th>\n",
       "      <td>1005</td>\n",
       "      <td>Jeffrey Wilkinson</td>\n",
       "      <td>838-830-6960</td>\n",
       "      <td>Manhattan, NY 10003</td>\n",
       "      <td>1988</td>\n",
       "      <td>[09, 08]</td>\n",
       "    </tr>\n",
       "    <tr>\n",
       "      <th>...</th>\n",
       "      <td>...</td>\n",
       "      <td>...</td>\n",
       "      <td>...</td>\n",
       "      <td>...</td>\n",
       "      <td>...</td>\n",
       "      <td>...</td>\n",
       "    </tr>\n",
       "    <tr>\n",
       "      <th>8255</th>\n",
       "      <td>9256</td>\n",
       "      <td>Leslie Johnson</td>\n",
       "      <td>914-511-7261</td>\n",
       "      <td>Manhattan, NY 10035</td>\n",
       "      <td>1995</td>\n",
       "      <td>[01, 02]</td>\n",
       "    </tr>\n",
       "    <tr>\n",
       "      <th>8256</th>\n",
       "      <td>9257</td>\n",
       "      <td>Susan Gilmore</td>\n",
       "      <td>516-774-9355</td>\n",
       "      <td>Bronx, NY 10472</td>\n",
       "      <td>1960</td>\n",
       "      <td>[11, 11]</td>\n",
       "    </tr>\n",
       "    <tr>\n",
       "      <th>8257</th>\n",
       "      <td>9258</td>\n",
       "      <td>Valerie Michelle Bowman</td>\n",
       "      <td>719-991-9904</td>\n",
       "      <td>Denver, CO 80294</td>\n",
       "      <td>1992</td>\n",
       "      <td>[02, 09]</td>\n",
       "    </tr>\n",
       "    <tr>\n",
       "      <th>8258</th>\n",
       "      <td>9259</td>\n",
       "      <td>Sandy Rios</td>\n",
       "      <td>516-361-8507</td>\n",
       "      <td>Jamaica, NY 11435</td>\n",
       "      <td>1954</td>\n",
       "      <td>[05, 02]</td>\n",
       "    </tr>\n",
       "    <tr>\n",
       "      <th>8259</th>\n",
       "      <td>9260</td>\n",
       "      <td>Michael Brooks</td>\n",
       "      <td>415-339-0869</td>\n",
       "      <td>Hesperia, CA 92344</td>\n",
       "      <td>1945</td>\n",
       "      <td>[09, 26]</td>\n",
       "    </tr>\n",
       "  </tbody>\n",
       "</table>\n",
       "<p>8260 rows × 6 columns</p>\n",
       "</div>"
      ],
      "text/plain": [
       "      customerid                     name         phone         citystatezip  \\\n",
       "0           1001       Jacqueline Alvarez  315-377-5031  Manhattan, NY 10013   \n",
       "1           1002             Julie Howell  680-537-8725   Brooklyn, NY 11221   \n",
       "2           1003          Christopher Ali  315-846-6054    Jamaica, NY 11434   \n",
       "3           1004    Christopher Rodriguez  516-275-2292      Bronx, NY 10453   \n",
       "4           1005        Jeffrey Wilkinson  838-830-6960  Manhattan, NY 10003   \n",
       "...          ...                      ...           ...                  ...   \n",
       "8255        9256           Leslie Johnson  914-511-7261  Manhattan, NY 10035   \n",
       "8256        9257            Susan Gilmore  516-774-9355      Bronx, NY 10472   \n",
       "8257        9258  Valerie Michelle Bowman  719-991-9904     Denver, CO 80294   \n",
       "8258        9259               Sandy Rios  516-361-8507    Jamaica, NY 11435   \n",
       "8259        9260           Michael Brooks  415-339-0869   Hesperia, CA 92344   \n",
       "\n",
       "      birth_year birth_day&month  \n",
       "0           1958        [01, 23]  \n",
       "1           1956        [12, 03]  \n",
       "2           2001        [09, 20]  \n",
       "3           1959        [07, 10]  \n",
       "4           1988        [09, 08]  \n",
       "...          ...             ...  \n",
       "8255        1995        [01, 02]  \n",
       "8256        1960        [11, 11]  \n",
       "8257        1992        [02, 09]  \n",
       "8258        1954        [05, 02]  \n",
       "8259        1945        [09, 26]  \n",
       "\n",
       "[8260 rows x 6 columns]"
      ]
     },
     "execution_count": 8,
     "metadata": {},
     "output_type": "execute_result"
    }
   ],
   "source": [
    "customer_data.drop(columns=[\"birthdate\"])"
   ]
  },
  {
   "cell_type": "code",
   "execution_count": 9,
   "metadata": {},
   "outputs": [],
   "source": [
    "customer_data = customer_data[customer_data[\"birth_year\"].mod(12) == 7]"
   ]
  },
  {
   "cell_type": "code",
   "execution_count": 11,
   "metadata": {},
   "outputs": [],
   "source": [
    "def cancer_birth_daymonth(daymonth_list: list[str]) -> bool:\n",
    "\n",
    "    month = int(daymonth_list[0])\n",
    "\n",
    "    day = int(daymonth_list[1])\n",
    "\n",
    "    if month == 6 and day >= 21:\n",
    "        return True\n",
    "    if month == 7 and day <= 22:\n",
    "        return True\n",
    "    \n",
    "    return False"
   ]
  },
  {
   "cell_type": "code",
   "execution_count": 12,
   "metadata": {},
   "outputs": [],
   "source": [
    "customer_data = customer_data[customer_data[\"birth_day&month\"].apply(cancer_birth_daymonth) == True]"
   ]
  },
  {
   "cell_type": "code",
   "execution_count": 13,
   "metadata": {},
   "outputs": [
    {
     "data": {
      "text/html": [
       "<div>\n",
       "<style scoped>\n",
       "    .dataframe tbody tr th:only-of-type {\n",
       "        vertical-align: middle;\n",
       "    }\n",
       "\n",
       "    .dataframe tbody tr th {\n",
       "        vertical-align: top;\n",
       "    }\n",
       "\n",
       "    .dataframe thead th {\n",
       "        text-align: right;\n",
       "    }\n",
       "</style>\n",
       "<table border=\"1\" class=\"dataframe\">\n",
       "  <thead>\n",
       "    <tr style=\"text-align: right;\">\n",
       "      <th></th>\n",
       "      <th>customerid</th>\n",
       "      <th>name</th>\n",
       "      <th>birthdate</th>\n",
       "      <th>phone</th>\n",
       "      <th>citystatezip</th>\n",
       "      <th>birth_year</th>\n",
       "      <th>birth_day&amp;month</th>\n",
       "    </tr>\n",
       "  </thead>\n",
       "  <tbody>\n",
       "    <tr>\n",
       "      <th>1549</th>\n",
       "      <td>2550</td>\n",
       "      <td>Robert Morton</td>\n",
       "      <td>1999-07-08</td>\n",
       "      <td>917-288-9635</td>\n",
       "      <td>Jamaica, NY 11435</td>\n",
       "      <td>1999</td>\n",
       "      <td>[07, 08]</td>\n",
       "    </tr>\n",
       "  </tbody>\n",
       "</table>\n",
       "</div>"
      ],
      "text/plain": [
       "      customerid           name   birthdate         phone       citystatezip  \\\n",
       "1549        2550  Robert Morton  1999-07-08  917-288-9635  Jamaica, NY 11435   \n",
       "\n",
       "      birth_year birth_day&month  \n",
       "1549        1999        [07, 08]  "
      ]
     },
     "execution_count": 13,
     "metadata": {},
     "output_type": "execute_result"
    }
   ],
   "source": [
    "customer_data = customer_data[customer_data[\"citystatezip\"].str.contains(\"Jamaica, NY 11435\")]\n",
    "\n",
    "customer_data.head()"
   ]
  }
 ],
 "metadata": {
  "kernelspec": {
   "display_name": "Python 3",
   "language": "python",
   "name": "python3"
  },
  "language_info": {
   "codemirror_mode": {
    "name": "ipython",
    "version": 3
   },
   "file_extension": ".py",
   "mimetype": "text/x-python",
   "name": "python",
   "nbconvert_exporter": "python",
   "pygments_lexer": "ipython3",
   "version": "3.11.8"
  }
 },
 "nbformat": 4,
 "nbformat_minor": 2
}

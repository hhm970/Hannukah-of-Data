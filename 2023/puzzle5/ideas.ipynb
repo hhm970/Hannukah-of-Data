{
 "cells": [
  {
   "cell_type": "code",
   "execution_count": 1,
   "metadata": {},
   "outputs": [],
   "source": [
    "import pandas as pd"
   ]
  },
  {
   "cell_type": "code",
   "execution_count": 2,
   "metadata": {},
   "outputs": [],
   "source": [
    "noahs_customers = pd.read_csv(\"../noahs-customers.csv\")\n",
    "\n",
    "noahs_orders_items = pd.read_csv(\"../noahs-orders_items.csv\")\n",
    "\n",
    "noahs_orders = pd.read_csv(\"../noahs-orders.csv\")\n",
    "\n",
    "noahs_products = pd.read_csv(\"../noahs-products.csv\")"
   ]
  },
  {
   "cell_type": "code",
   "execution_count": 3,
   "metadata": {},
   "outputs": [
    {
     "data": {
      "text/html": [
       "<div>\n",
       "<style scoped>\n",
       "    .dataframe tbody tr th:only-of-type {\n",
       "        vertical-align: middle;\n",
       "    }\n",
       "\n",
       "    .dataframe tbody tr th {\n",
       "        vertical-align: top;\n",
       "    }\n",
       "\n",
       "    .dataframe thead th {\n",
       "        text-align: right;\n",
       "    }\n",
       "</style>\n",
       "<table border=\"1\" class=\"dataframe\">\n",
       "  <thead>\n",
       "    <tr style=\"text-align: right;\">\n",
       "      <th></th>\n",
       "      <th>customerid</th>\n",
       "      <th>name</th>\n",
       "      <th>address</th>\n",
       "      <th>citystatezip</th>\n",
       "      <th>birthdate</th>\n",
       "      <th>phone</th>\n",
       "      <th>timezone</th>\n",
       "      <th>lat</th>\n",
       "      <th>long</th>\n",
       "      <th>area</th>\n",
       "    </tr>\n",
       "  </thead>\n",
       "  <tbody>\n",
       "    <tr>\n",
       "      <th>0</th>\n",
       "      <td>1001</td>\n",
       "      <td>Jacqueline Alvarez</td>\n",
       "      <td>105N Elizabeth St</td>\n",
       "      <td>Manhattan, NY 10013</td>\n",
       "      <td>1958-01-23</td>\n",
       "      <td>315-377-5031</td>\n",
       "      <td>America/New_York</td>\n",
       "      <td>40.71817</td>\n",
       "      <td>-73.997468</td>\n",
       "      <td>Manhattan</td>\n",
       "    </tr>\n",
       "    <tr>\n",
       "      <th>1</th>\n",
       "      <td>1002</td>\n",
       "      <td>Julie Howell</td>\n",
       "      <td>185-1 Linden St</td>\n",
       "      <td>Brooklyn, NY 11221</td>\n",
       "      <td>1956-12-03</td>\n",
       "      <td>680-537-8725</td>\n",
       "      <td>America/New_York</td>\n",
       "      <td>40.69426</td>\n",
       "      <td>-73.921670</td>\n",
       "      <td>Brooklyn</td>\n",
       "    </tr>\n",
       "    <tr>\n",
       "      <th>2</th>\n",
       "      <td>1003</td>\n",
       "      <td>Christopher Ali</td>\n",
       "      <td>174-28 Baisley Blvd</td>\n",
       "      <td>Jamaica, NY 11434</td>\n",
       "      <td>2001-09-20</td>\n",
       "      <td>315-846-6054</td>\n",
       "      <td>America/New_York</td>\n",
       "      <td>40.68902</td>\n",
       "      <td>-73.773470</td>\n",
       "      <td>Jamaica</td>\n",
       "    </tr>\n",
       "    <tr>\n",
       "      <th>3</th>\n",
       "      <td>1004</td>\n",
       "      <td>Christopher Rodriguez</td>\n",
       "      <td>102 Mount Hope Pl</td>\n",
       "      <td>Bronx, NY 10453</td>\n",
       "      <td>1959-07-10</td>\n",
       "      <td>516-275-2292</td>\n",
       "      <td>America/New_York</td>\n",
       "      <td>40.84939</td>\n",
       "      <td>-73.909160</td>\n",
       "      <td>Bronx</td>\n",
       "    </tr>\n",
       "    <tr>\n",
       "      <th>4</th>\n",
       "      <td>1005</td>\n",
       "      <td>Jeffrey Wilkinson</td>\n",
       "      <td>17 St Marks Pl</td>\n",
       "      <td>Manhattan, NY 10003</td>\n",
       "      <td>1988-09-08</td>\n",
       "      <td>838-830-6960</td>\n",
       "      <td>America/New_York</td>\n",
       "      <td>40.72804</td>\n",
       "      <td>-73.987120</td>\n",
       "      <td>Manhattan</td>\n",
       "    </tr>\n",
       "  </tbody>\n",
       "</table>\n",
       "</div>"
      ],
      "text/plain": [
       "   customerid                   name              address  \\\n",
       "0        1001     Jacqueline Alvarez    105N Elizabeth St   \n",
       "1        1002           Julie Howell      185-1 Linden St   \n",
       "2        1003        Christopher Ali  174-28 Baisley Blvd   \n",
       "3        1004  Christopher Rodriguez    102 Mount Hope Pl   \n",
       "4        1005      Jeffrey Wilkinson       17 St Marks Pl   \n",
       "\n",
       "          citystatezip   birthdate         phone          timezone       lat  \\\n",
       "0  Manhattan, NY 10013  1958-01-23  315-377-5031  America/New_York  40.71817   \n",
       "1   Brooklyn, NY 11221  1956-12-03  680-537-8725  America/New_York  40.69426   \n",
       "2    Jamaica, NY 11434  2001-09-20  315-846-6054  America/New_York  40.68902   \n",
       "3      Bronx, NY 10453  1959-07-10  516-275-2292  America/New_York  40.84939   \n",
       "4  Manhattan, NY 10003  1988-09-08  838-830-6960  America/New_York  40.72804   \n",
       "\n",
       "        long       area  \n",
       "0 -73.997468  Manhattan  \n",
       "1 -73.921670   Brooklyn  \n",
       "2 -73.773470    Jamaica  \n",
       "3 -73.909160      Bronx  \n",
       "4 -73.987120  Manhattan  "
      ]
     },
     "execution_count": 3,
     "metadata": {},
     "output_type": "execute_result"
    }
   ],
   "source": [
    "noahs_customers_area = noahs_customers[\"citystatezip\"].str.split(\", \")\n",
    "\n",
    "noahs_customers[\"area\"] = noahs_customers_area.apply(lambda a: a[0])\n",
    "\n",
    "noahs_customers.head()"
   ]
  },
  {
   "cell_type": "code",
   "execution_count": 5,
   "metadata": {},
   "outputs": [
    {
     "data": {
      "text/html": [
       "<div>\n",
       "<style scoped>\n",
       "    .dataframe tbody tr th:only-of-type {\n",
       "        vertical-align: middle;\n",
       "    }\n",
       "\n",
       "    .dataframe tbody tr th {\n",
       "        vertical-align: top;\n",
       "    }\n",
       "\n",
       "    .dataframe thead th {\n",
       "        text-align: right;\n",
       "    }\n",
       "</style>\n",
       "<table border=\"1\" class=\"dataframe\">\n",
       "  <thead>\n",
       "    <tr style=\"text-align: right;\">\n",
       "      <th></th>\n",
       "      <th>customerid</th>\n",
       "      <th>phone</th>\n",
       "      <th>area</th>\n",
       "    </tr>\n",
       "  </thead>\n",
       "  <tbody>\n",
       "    <tr>\n",
       "      <th>19</th>\n",
       "      <td>1020</td>\n",
       "      <td>914-349-9960</td>\n",
       "      <td>Staten Island</td>\n",
       "    </tr>\n",
       "    <tr>\n",
       "      <th>53</th>\n",
       "      <td>1054</td>\n",
       "      <td>929-715-7490</td>\n",
       "      <td>Staten Island</td>\n",
       "    </tr>\n",
       "    <tr>\n",
       "      <th>56</th>\n",
       "      <td>1057</td>\n",
       "      <td>607-982-1214</td>\n",
       "      <td>Staten Island</td>\n",
       "    </tr>\n",
       "    <tr>\n",
       "      <th>78</th>\n",
       "      <td>1079</td>\n",
       "      <td>631-961-3677</td>\n",
       "      <td>Staten Island</td>\n",
       "    </tr>\n",
       "    <tr>\n",
       "      <th>159</th>\n",
       "      <td>1160</td>\n",
       "      <td>516-338-3885</td>\n",
       "      <td>Staten Island</td>\n",
       "    </tr>\n",
       "  </tbody>\n",
       "</table>\n",
       "</div>"
      ],
      "text/plain": [
       "     customerid         phone           area\n",
       "19         1020  914-349-9960  Staten Island\n",
       "53         1054  929-715-7490  Staten Island\n",
       "56         1057  607-982-1214  Staten Island\n",
       "78         1079  631-961-3677  Staten Island\n",
       "159        1160  516-338-3885  Staten Island"
      ]
     },
     "execution_count": 5,
     "metadata": {},
     "output_type": "execute_result"
    }
   ],
   "source": [
    "noahs_customers = noahs_customers[[\"customerid\", \"phone\", \"area\"]]\n",
    "\n",
    "noahs_customers = noahs_customers[noahs_customers[\"area\"] == \"Staten Island\"]\n",
    "\n",
    "noahs_customers.head()"
   ]
  },
  {
   "cell_type": "code",
   "execution_count": 6,
   "metadata": {},
   "outputs": [
    {
     "data": {
      "text/plain": [
       "Index(['customerid', 'phone', 'area', 'orderid'], dtype='object')"
      ]
     },
     "execution_count": 6,
     "metadata": {},
     "output_type": "execute_result"
    }
   ],
   "source": [
    "noahs_orders = noahs_orders[[\"orderid\", \"customerid\"]]\n",
    "\n",
    "noahs_customers_and_orders = pd.merge(noahs_customers, noahs_orders, how=\"inner\", on=\"customerid\")\n",
    "\n",
    "noahs_customers_and_orders.columns\n"
   ]
  },
  {
   "cell_type": "code",
   "execution_count": 7,
   "metadata": {},
   "outputs": [
    {
     "data": {
      "text/plain": [
       "Index(['sku', 'desc', 'orderid', 'qty'], dtype='object')"
      ]
     },
     "execution_count": 7,
     "metadata": {},
     "output_type": "execute_result"
    }
   ],
   "source": [
    "noahs_products = noahs_products[[\"sku\", \"desc\"]]\n",
    "\n",
    "noahs_orders_items = noahs_orders_items[[\"orderid\", \"sku\", \"qty\"]]\n",
    "\n",
    "noahs_products_orders = pd.merge(noahs_products, noahs_orders_items, how=\"inner\", on=\"sku\")\n",
    "\n",
    "noahs_products_orders.columns"
   ]
  },
  {
   "cell_type": "code",
   "execution_count": 8,
   "metadata": {},
   "outputs": [],
   "source": [
    "noahs_combined_data = pd.merge(noahs_customers_and_orders, noahs_products_orders, how=\"inner\", on=\"orderid\")\n",
    "\n",
    "noahs_combined_data_cats = noahs_combined_data[noahs_combined_data['desc'].str.contains(\"Cat\", case=False)]\n"
   ]
  },
  {
   "cell_type": "code",
   "execution_count": 13,
   "metadata": {},
   "outputs": [
    {
     "data": {
      "text/plain": [
       "'631-507-6048'"
      ]
     },
     "execution_count": 13,
     "metadata": {},
     "output_type": "execute_result"
    }
   ],
   "source": [
    "result = noahs_combined_data_cats[noahs_combined_data_cats[\"qty\"] > 1].sort_values(by=\"qty\", ascending=False)\n",
    "\n",
    "result.iloc[0][\"phone\"]"
   ]
  }
 ],
 "metadata": {
  "kernelspec": {
   "display_name": "Python 3",
   "language": "python",
   "name": "python3"
  },
  "language_info": {
   "codemirror_mode": {
    "name": "ipython",
    "version": 3
   },
   "file_extension": ".py",
   "mimetype": "text/x-python",
   "name": "python",
   "nbconvert_exporter": "python",
   "pygments_lexer": "ipython3",
   "version": "3.11.8"
  }
 },
 "nbformat": 4,
 "nbformat_minor": 2
}
